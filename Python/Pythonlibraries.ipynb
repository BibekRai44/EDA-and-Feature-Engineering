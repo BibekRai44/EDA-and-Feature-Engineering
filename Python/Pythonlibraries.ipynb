{
 "cells": [
  {
   "cell_type": "code",
   "execution_count": 1,
   "id": "5e151e6b",
   "metadata": {},
   "outputs": [
    {
     "name": "stdout",
     "output_type": "stream",
     "text": [
      "Requirement already satisfied: sweetviz in ./env/lib/python3.10/site-packages (2.1.4)\n",
      "Requirement already satisfied: importlib-resources>=1.2.0 in ./env/lib/python3.10/site-packages (from sweetviz) (5.10.1)\n",
      "Requirement already satisfied: scipy>=1.3.2 in ./env/lib/python3.10/site-packages (from sweetviz) (1.9.3)\n",
      "Requirement already satisfied: matplotlib>=3.1.3 in ./env/lib/python3.10/site-packages (from sweetviz) (3.6.2)\n",
      "Requirement already satisfied: jinja2>=2.11.1 in ./env/lib/python3.10/site-packages (from sweetviz) (3.1.2)\n",
      "Requirement already satisfied: pandas!=1.0.0,!=1.0.1,!=1.0.2,>=0.25.3 in ./env/lib/python3.10/site-packages (from sweetviz) (1.5.2)\n",
      "Requirement already satisfied: numpy>=1.16.0 in ./env/lib/python3.10/site-packages (from sweetviz) (1.23.2)\n",
      "Requirement already satisfied: tqdm>=4.43.0 in ./env/lib/python3.10/site-packages (from sweetviz) (4.64.1)\n",
      "Requirement already satisfied: MarkupSafe>=2.0 in ./env/lib/python3.10/site-packages (from jinja2>=2.11.1->sweetviz) (2.1.1)\n",
      "Requirement already satisfied: packaging>=20.0 in ./env/lib/python3.10/site-packages (from matplotlib>=3.1.3->sweetviz) (22.0)\n",
      "Requirement already satisfied: fonttools>=4.22.0 in ./env/lib/python3.10/site-packages (from matplotlib>=3.1.3->sweetviz) (4.38.0)\n",
      "Requirement already satisfied: kiwisolver>=1.0.1 in ./env/lib/python3.10/site-packages (from matplotlib>=3.1.3->sweetviz) (1.4.4)\n",
      "Requirement already satisfied: pillow>=6.2.0 in ./env/lib/python3.10/site-packages (from matplotlib>=3.1.3->sweetviz) (9.2.0)\n",
      "Requirement already satisfied: pyparsing>=2.2.1 in ./env/lib/python3.10/site-packages (from matplotlib>=3.1.3->sweetviz) (3.0.9)\n",
      "Requirement already satisfied: cycler>=0.10 in ./env/lib/python3.10/site-packages (from matplotlib>=3.1.3->sweetviz) (0.11.0)\n",
      "Requirement already satisfied: python-dateutil>=2.7 in ./env/lib/python3.10/site-packages (from matplotlib>=3.1.3->sweetviz) (2.8.2)\n",
      "Requirement already satisfied: contourpy>=1.0.1 in ./env/lib/python3.10/site-packages (from matplotlib>=3.1.3->sweetviz) (1.0.6)\n",
      "Requirement already satisfied: pytz>=2020.1 in ./env/lib/python3.10/site-packages (from pandas!=1.0.0,!=1.0.1,!=1.0.2,>=0.25.3->sweetviz) (2022.7)\n",
      "Requirement already satisfied: six>=1.5 in ./env/lib/python3.10/site-packages (from python-dateutil>=2.7->matplotlib>=3.1.3->sweetviz) (1.16.0)\n"
     ]
    }
   ],
   "source": [
    "!pip install sweetviz"
   ]
  },
  {
   "cell_type": "code",
   "execution_count": 2,
   "id": "330aea39",
   "metadata": {},
   "outputs": [],
   "source": [
    "import pandas as pd"
   ]
  },
  {
   "cell_type": "code",
   "execution_count": 3,
   "id": "cfbfdf85",
   "metadata": {},
   "outputs": [
    {
     "data": {
      "text/html": [
       "<div>\n",
       "<style scoped>\n",
       "    .dataframe tbody tr th:only-of-type {\n",
       "        vertical-align: middle;\n",
       "    }\n",
       "\n",
       "    .dataframe tbody tr th {\n",
       "        vertical-align: top;\n",
       "    }\n",
       "\n",
       "    .dataframe thead th {\n",
       "        text-align: right;\n",
       "    }\n",
       "</style>\n",
       "<table border=\"1\" class=\"dataframe\">\n",
       "  <thead>\n",
       "    <tr style=\"text-align: right;\">\n",
       "      <th></th>\n",
       "      <th>id</th>\n",
       "      <th>gender</th>\n",
       "      <th>age</th>\n",
       "      <th>hypertension</th>\n",
       "      <th>heart_disease</th>\n",
       "      <th>ever_married</th>\n",
       "      <th>work_type</th>\n",
       "      <th>Residence_type</th>\n",
       "      <th>avg_glucose_level</th>\n",
       "      <th>bmi</th>\n",
       "      <th>smoking_status</th>\n",
       "      <th>stroke</th>\n",
       "    </tr>\n",
       "  </thead>\n",
       "  <tbody>\n",
       "    <tr>\n",
       "      <th>0</th>\n",
       "      <td>9046</td>\n",
       "      <td>Male</td>\n",
       "      <td>67.0</td>\n",
       "      <td>0</td>\n",
       "      <td>1</td>\n",
       "      <td>Yes</td>\n",
       "      <td>Private</td>\n",
       "      <td>Urban</td>\n",
       "      <td>228.69</td>\n",
       "      <td>36.6</td>\n",
       "      <td>formerly smoked</td>\n",
       "      <td>1</td>\n",
       "    </tr>\n",
       "    <tr>\n",
       "      <th>1</th>\n",
       "      <td>51676</td>\n",
       "      <td>Female</td>\n",
       "      <td>61.0</td>\n",
       "      <td>0</td>\n",
       "      <td>0</td>\n",
       "      <td>Yes</td>\n",
       "      <td>Self-employed</td>\n",
       "      <td>Rural</td>\n",
       "      <td>202.21</td>\n",
       "      <td>NaN</td>\n",
       "      <td>never smoked</td>\n",
       "      <td>1</td>\n",
       "    </tr>\n",
       "    <tr>\n",
       "      <th>2</th>\n",
       "      <td>31112</td>\n",
       "      <td>Male</td>\n",
       "      <td>80.0</td>\n",
       "      <td>0</td>\n",
       "      <td>1</td>\n",
       "      <td>Yes</td>\n",
       "      <td>Private</td>\n",
       "      <td>Rural</td>\n",
       "      <td>105.92</td>\n",
       "      <td>32.5</td>\n",
       "      <td>never smoked</td>\n",
       "      <td>1</td>\n",
       "    </tr>\n",
       "    <tr>\n",
       "      <th>3</th>\n",
       "      <td>60182</td>\n",
       "      <td>Female</td>\n",
       "      <td>49.0</td>\n",
       "      <td>0</td>\n",
       "      <td>0</td>\n",
       "      <td>Yes</td>\n",
       "      <td>Private</td>\n",
       "      <td>Urban</td>\n",
       "      <td>171.23</td>\n",
       "      <td>34.4</td>\n",
       "      <td>smokes</td>\n",
       "      <td>1</td>\n",
       "    </tr>\n",
       "    <tr>\n",
       "      <th>4</th>\n",
       "      <td>1665</td>\n",
       "      <td>Female</td>\n",
       "      <td>79.0</td>\n",
       "      <td>1</td>\n",
       "      <td>0</td>\n",
       "      <td>Yes</td>\n",
       "      <td>Self-employed</td>\n",
       "      <td>Rural</td>\n",
       "      <td>174.12</td>\n",
       "      <td>24.0</td>\n",
       "      <td>never smoked</td>\n",
       "      <td>1</td>\n",
       "    </tr>\n",
       "  </tbody>\n",
       "</table>\n",
       "</div>"
      ],
      "text/plain": [
       "      id  gender   age  hypertension  heart_disease ever_married  \\\n",
       "0   9046    Male  67.0             0              1          Yes   \n",
       "1  51676  Female  61.0             0              0          Yes   \n",
       "2  31112    Male  80.0             0              1          Yes   \n",
       "3  60182  Female  49.0             0              0          Yes   \n",
       "4   1665  Female  79.0             1              0          Yes   \n",
       "\n",
       "       work_type Residence_type  avg_glucose_level   bmi   smoking_status  \\\n",
       "0        Private          Urban             228.69  36.6  formerly smoked   \n",
       "1  Self-employed          Rural             202.21   NaN     never smoked   \n",
       "2        Private          Rural             105.92  32.5     never smoked   \n",
       "3        Private          Urban             171.23  34.4           smokes   \n",
       "4  Self-employed          Rural             174.12  24.0     never smoked   \n",
       "\n",
       "   stroke  \n",
       "0       1  \n",
       "1       1  \n",
       "2       1  \n",
       "3       1  \n",
       "4       1  "
      ]
     },
     "execution_count": 3,
     "metadata": {},
     "output_type": "execute_result"
    }
   ],
   "source": [
    "health_df=pd.read_csv('/Users/bibekrai/Downloads/healthcare-dataset-stroke-data.csv')\n",
    "health_df.head()"
   ]
  },
  {
   "cell_type": "code",
   "execution_count": 4,
   "id": "504a1a52",
   "metadata": {},
   "outputs": [
    {
     "name": "stderr",
     "output_type": "stream",
     "text": [
      "/Users/bibekrai/tensorflow-test/env/lib/python3.10/site-packages/sweetviz/dataframe_report.py:74: FutureWarning: iteritems is deprecated and will be removed in a future version. Use .items instead.\n",
      "  all_source_names = [cur_name for cur_name, cur_series in source_df.iteritems()]\n",
      "/Users/bibekrai/tensorflow-test/env/lib/python3.10/site-packages/sweetviz/dataframe_report.py:109: FutureWarning: iteritems is deprecated and will be removed in a future version. Use .items instead.\n",
      "  filtered_series_names_in_source = [cur_name for cur_name, cur_series in source_df.iteritems()\n"
     ]
    },
    {
     "data": {
      "application/vnd.jupyter.widget-view+json": {
       "model_id": "2bda5417eb674c48af458861e96ca661",
       "version_major": 2,
       "version_minor": 0
      },
      "text/plain": [
       "                                             |      | [  0%]   00:00 -> (? left)"
      ]
     },
     "metadata": {},
     "output_type": "display_data"
    },
    {
     "name": "stderr",
     "output_type": "stream",
     "text": [
      "/Users/bibekrai/tensorflow-test/env/lib/python3.10/site-packages/sweetviz/series_analyzer_numeric.py:25: FutureWarning: The 'mad' method is deprecated and will be removed in a future version. To compute the same result, you may do `(df - df.mean()).abs().mean()`.\n",
      "  stats[\"mad\"] = series.mad()\n",
      "/Users/bibekrai/tensorflow-test/env/lib/python3.10/site-packages/sweetviz/series_analyzer_cat.py:28: FutureWarning: iteritems is deprecated and will be removed in a future version. Use .items instead.\n",
      "  for item in category_counts.iteritems():\n",
      "/Users/bibekrai/tensorflow-test/env/lib/python3.10/site-packages/sweetviz/series_analyzer_numeric.py:25: FutureWarning: The 'mad' method is deprecated and will be removed in a future version. To compute the same result, you may do `(df - df.mean()).abs().mean()`.\n",
      "  stats[\"mad\"] = series.mad()\n",
      "/Users/bibekrai/tensorflow-test/env/lib/python3.10/site-packages/sweetviz/series_analyzer_cat.py:28: FutureWarning: iteritems is deprecated and will be removed in a future version. Use .items instead.\n",
      "  for item in category_counts.iteritems():\n",
      "/Users/bibekrai/tensorflow-test/env/lib/python3.10/site-packages/sweetviz/series_analyzer_cat.py:28: FutureWarning: iteritems is deprecated and will be removed in a future version. Use .items instead.\n",
      "  for item in category_counts.iteritems():\n",
      "/Users/bibekrai/tensorflow-test/env/lib/python3.10/site-packages/sweetviz/series_analyzer_cat.py:28: FutureWarning: iteritems is deprecated and will be removed in a future version. Use .items instead.\n",
      "  for item in category_counts.iteritems():\n",
      "/Users/bibekrai/tensorflow-test/env/lib/python3.10/site-packages/sweetviz/series_analyzer_cat.py:28: FutureWarning: iteritems is deprecated and will be removed in a future version. Use .items instead.\n",
      "  for item in category_counts.iteritems():\n",
      "/Users/bibekrai/tensorflow-test/env/lib/python3.10/site-packages/sweetviz/series_analyzer_cat.py:28: FutureWarning: iteritems is deprecated and will be removed in a future version. Use .items instead.\n",
      "  for item in category_counts.iteritems():\n",
      "/Users/bibekrai/tensorflow-test/env/lib/python3.10/site-packages/sweetviz/series_analyzer_numeric.py:25: FutureWarning: The 'mad' method is deprecated and will be removed in a future version. To compute the same result, you may do `(df - df.mean()).abs().mean()`.\n",
      "  stats[\"mad\"] = series.mad()\n",
      "/Users/bibekrai/tensorflow-test/env/lib/python3.10/site-packages/sweetviz/series_analyzer_numeric.py:25: FutureWarning: The 'mad' method is deprecated and will be removed in a future version. To compute the same result, you may do `(df - df.mean()).abs().mean()`.\n",
      "  stats[\"mad\"] = series.mad()\n",
      "/Users/bibekrai/tensorflow-test/env/lib/python3.10/site-packages/sweetviz/series_analyzer_cat.py:28: FutureWarning: iteritems is deprecated and will be removed in a future version. Use .items instead.\n",
      "  for item in category_counts.iteritems():\n",
      "/Users/bibekrai/tensorflow-test/env/lib/python3.10/site-packages/sweetviz/series_analyzer_cat.py:28: FutureWarning: iteritems is deprecated and will be removed in a future version. Use .items instead.\n",
      "  for item in category_counts.iteritems():\n"
     ]
    },
    {
     "name": "stdout",
     "output_type": "stream",
     "text": [
      "Report output.html was generated! NOTEBOOK/COLAB USERS: the web browser MAY not pop up, regardless, the report IS saved in your notebook/colab files.\n"
     ]
    }
   ],
   "source": [
    "import sweetviz as sv\n",
    "report=sv.analyze(health_df)\n",
    "report.show_html('output.html')"
   ]
  },
  {
   "cell_type": "code",
   "execution_count": 5,
   "id": "7c97d7cb",
   "metadata": {},
   "outputs": [
    {
     "name": "stdout",
     "output_type": "stream",
     "text": [
      "Requirement already satisfied: dtale in ./env/lib/python3.10/site-packages (2.11.0)\n",
      "Requirement already satisfied: seaborn in ./env/lib/python3.10/site-packages (from dtale) (0.12.2)\n",
      "Requirement already satisfied: Flask in ./env/lib/python3.10/site-packages (from dtale) (2.2.2)\n",
      "Requirement already satisfied: future>=0.14.0 in ./env/lib/python3.10/site-packages (from dtale) (0.18.3)\n",
      "Requirement already satisfied: lz4 in ./env/lib/python3.10/site-packages (from dtale) (4.3.2)\n",
      "Requirement already satisfied: flask-ngrok in ./env/lib/python3.10/site-packages (from dtale) (0.0.25)\n",
      "Requirement already satisfied: certifi in ./env/lib/python3.10/site-packages (from dtale) (2022.12.7)\n",
      "Requirement already satisfied: squarify in ./env/lib/python3.10/site-packages (from dtale) (0.4.3)\n",
      "Requirement already satisfied: scipy==1.9.3 in ./env/lib/python3.10/site-packages (from dtale) (1.9.3)\n",
      "Requirement already satisfied: itsdangerous in ./env/lib/python3.10/site-packages (from dtale) (2.1.2)\n",
      "Requirement already satisfied: openpyxl in ./env/lib/python3.10/site-packages (from dtale) (3.1.0)\n",
      "Requirement already satisfied: networkx in ./env/lib/python3.10/site-packages (from dtale) (3.0)\n",
      "Requirement already satisfied: six in ./env/lib/python3.10/site-packages (from dtale) (1.16.0)\n",
      "Requirement already satisfied: plotly>=5.0.0 in ./env/lib/python3.10/site-packages (from dtale) (5.13.0)\n",
      "Requirement already satisfied: scikit-learn in ./env/lib/python3.10/site-packages (from dtale) (1.2.0)\n",
      "Requirement already satisfied: matplotlib in ./env/lib/python3.10/site-packages (from dtale) (3.6.2)\n",
      "Requirement already satisfied: kaleido in ./env/lib/python3.10/site-packages (from dtale) (0.2.1)\n",
      "Requirement already satisfied: xarray in ./env/lib/python3.10/site-packages (from dtale) (2023.1.0)\n",
      "Requirement already satisfied: dash-bootstrap-components in ./env/lib/python3.10/site-packages (from dtale) (1.3.1)\n",
      "Requirement already satisfied: dash-colorscales in ./env/lib/python3.10/site-packages (from dtale) (0.0.4)\n",
      "Requirement already satisfied: strsimpy in ./env/lib/python3.10/site-packages (from dtale) (0.2.1)\n",
      "Requirement already satisfied: cycler in ./env/lib/python3.10/site-packages (from dtale) (0.11.0)\n",
      "Requirement already satisfied: numpy in ./env/lib/python3.10/site-packages (from dtale) (1.23.2)\n",
      "Requirement already satisfied: pandas in ./env/lib/python3.10/site-packages (from dtale) (1.5.2)\n",
      "Requirement already satisfied: missingno<=0.4.2 in ./env/lib/python3.10/site-packages (from dtale) (0.4.2)\n",
      "Requirement already satisfied: requests in ./env/lib/python3.10/site-packages (from dtale) (2.28.1)\n",
      "Requirement already satisfied: statsmodels in ./env/lib/python3.10/site-packages (from dtale) (0.13.5)\n",
      "Requirement already satisfied: dash-daq in ./env/lib/python3.10/site-packages (from dtale) (0.5.0)\n",
      "Requirement already satisfied: Flask-Compress in ./env/lib/python3.10/site-packages (from dtale) (1.13)\n",
      "Requirement already satisfied: et-xmlfile in ./env/lib/python3.10/site-packages (from dtale) (1.1.0)\n",
      "Requirement already satisfied: xlrd in ./env/lib/python3.10/site-packages (from dtale) (2.0.1)\n",
      "Requirement already satisfied: dash>=2.0.0 in ./env/lib/python3.10/site-packages (from dtale) (2.8.1)\n",
      "Requirement already satisfied: dash-table==5.0.0 in ./env/lib/python3.10/site-packages (from dash>=2.0.0->dtale) (5.0.0)\n",
      "Requirement already satisfied: dash-core-components==2.0.0 in ./env/lib/python3.10/site-packages (from dash>=2.0.0->dtale) (2.0.0)\n",
      "Requirement already satisfied: dash-html-components==2.0.0 in ./env/lib/python3.10/site-packages (from dash>=2.0.0->dtale) (2.0.0)\n",
      "Requirement already satisfied: Jinja2>=3.0 in ./env/lib/python3.10/site-packages (from Flask->dtale) (3.1.2)\n",
      "Requirement already satisfied: click>=8.0 in ./env/lib/python3.10/site-packages (from Flask->dtale) (8.1.3)\n",
      "Requirement already satisfied: Werkzeug>=2.2.2 in ./env/lib/python3.10/site-packages (from Flask->dtale) (2.2.2)\n",
      "Requirement already satisfied: tenacity>=6.2.0 in ./env/lib/python3.10/site-packages (from plotly>=5.0.0->dtale) (8.1.0)\n",
      "Requirement already satisfied: brotli in ./env/lib/python3.10/site-packages (from Flask-Compress->dtale) (1.0.9)\n",
      "Requirement already satisfied: pyparsing>=2.2.1 in ./env/lib/python3.10/site-packages (from matplotlib->dtale) (3.0.9)\n",
      "Requirement already satisfied: packaging>=20.0 in ./env/lib/python3.10/site-packages (from matplotlib->dtale) (22.0)\n",
      "Requirement already satisfied: pillow>=6.2.0 in ./env/lib/python3.10/site-packages (from matplotlib->dtale) (9.2.0)\n",
      "Requirement already satisfied: contourpy>=1.0.1 in ./env/lib/python3.10/site-packages (from matplotlib->dtale) (1.0.6)\n",
      "Requirement already satisfied: fonttools>=4.22.0 in ./env/lib/python3.10/site-packages (from matplotlib->dtale) (4.38.0)\n",
      "Requirement already satisfied: kiwisolver>=1.0.1 in ./env/lib/python3.10/site-packages (from matplotlib->dtale) (1.4.4)\n",
      "Requirement already satisfied: python-dateutil>=2.7 in ./env/lib/python3.10/site-packages (from matplotlib->dtale) (2.8.2)\n",
      "Requirement already satisfied: pytz>=2020.1 in ./env/lib/python3.10/site-packages (from pandas->dtale) (2022.7)\n",
      "Requirement already satisfied: idna<4,>=2.5 in ./env/lib/python3.10/site-packages (from requests->dtale) (3.4)\n",
      "Requirement already satisfied: urllib3<1.27,>=1.21.1 in ./env/lib/python3.10/site-packages (from requests->dtale) (1.26.13)\n",
      "Requirement already satisfied: charset-normalizer<3,>=2 in ./env/lib/python3.10/site-packages (from requests->dtale) (2.1.1)\n",
      "Requirement already satisfied: joblib>=1.1.1 in ./env/lib/python3.10/site-packages (from scikit-learn->dtale) (1.2.0)\n",
      "Requirement already satisfied: threadpoolctl>=2.0.0 in ./env/lib/python3.10/site-packages (from scikit-learn->dtale) (3.1.0)\n",
      "Requirement already satisfied: patsy>=0.5.2 in ./env/lib/python3.10/site-packages (from statsmodels->dtale) (0.5.3)\n",
      "Requirement already satisfied: MarkupSafe>=2.0 in ./env/lib/python3.10/site-packages (from Jinja2>=3.0->Flask->dtale) (2.1.1)\n",
      "Note: you may need to restart the kernel to use updated packages.\n"
     ]
    }
   ],
   "source": [
    "pip install dtale"
   ]
  },
  {
   "cell_type": "code",
   "execution_count": 6,
   "id": "f0f579d0",
   "metadata": {},
   "outputs": [
    {
     "data": {
      "text/html": [
       "\n",
       "        <iframe\n",
       "            width=\"100%\"\n",
       "            height=\"475\"\n",
       "            src=\"http://Bibeks-MacBook-Air.local:40000/dtale/iframe/1\"\n",
       "            frameborder=\"0\"\n",
       "            allowfullscreen\n",
       "            \n",
       "        ></iframe>\n",
       "        "
      ],
      "text/plain": [
       "<IPython.lib.display.IFrame at 0x123740400>"
      ]
     },
     "metadata": {},
     "output_type": "display_data"
    },
    {
     "data": {
      "text/plain": []
     },
     "execution_count": 6,
     "metadata": {},
     "output_type": "execute_result"
    },
    {
     "name": "stderr",
     "output_type": "stream",
     "text": [
      "/Users/bibekrai/tensorflow-test/env/lib/python3.10/site-packages/dtale/views.py:1961: FutureWarning:\n",
      "\n",
      "The default value of regex will change from True to False in a future version.\n",
      "\n"
     ]
    }
   ],
   "source": [
    "import dtale\n",
    "dtale.show(health_df)"
   ]
  },
  {
   "cell_type": "code",
   "execution_count": 13,
   "id": "423cc147",
   "metadata": {},
   "outputs": [],
   "source": [
    "dtale_report=dtale.show(health_df).open_browser()"
   ]
  },
  {
   "cell_type": "markdown",
   "id": "a52d1006",
   "metadata": {},
   "source": [
    "## Some other great python libraries for Data Visualization\n",
    "\n",
    "**Lux**\\\n",
    "**Pandas Visual Analysis**"
   ]
  },
  {
   "cell_type": "code",
   "execution_count": null,
   "id": "42666096",
   "metadata": {},
   "outputs": [],
   "source": []
  }
 ],
 "metadata": {
  "kernelspec": {
   "display_name": "Python 3 (ipykernel)",
   "language": "python",
   "name": "python3"
  },
  "language_info": {
   "codemirror_mode": {
    "name": "ipython",
    "version": 3
   },
   "file_extension": ".py",
   "mimetype": "text/x-python",
   "name": "python",
   "nbconvert_exporter": "python",
   "pygments_lexer": "ipython3",
   "version": "3.10.6"
  }
 },
 "nbformat": 4,
 "nbformat_minor": 5
}
